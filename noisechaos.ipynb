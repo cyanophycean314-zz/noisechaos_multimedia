{
 "cells": [
  {
   "cell_type": "markdown",
   "metadata": {},
   "source": [
    "# The interplay between noise and chaos"
   ]
  },
  {
   "cell_type": "code",
   "execution_count": 16,
   "metadata": {
    "collapsed": false
   },
   "outputs": [
    {
     "data": {
      "text/html": [
       "<script>\n",
       "code_show=true; \n",
       "function code_toggle() {\n",
       " if (code_show){\n",
       " $('div.input').hide();\n",
       " } else {\n",
       " $('div.input').show();\n",
       " }\n",
       " code_show = !code_show\n",
       "} \n",
       "$( document ).ready(code_toggle);\n",
       "</script>\n",
       "<form action=\"javascript:code_toggle()\"><input type=\"submit\" value=\"Click here to toggle on/off the raw code.\"></form>"
      ],
      "text/plain": [
       "<IPython.core.display.HTML object>"
      ]
     },
     "execution_count": 16,
     "metadata": {},
     "output_type": "execute_result"
    }
   ],
   "source": [
    "from IPython.display import HTML\n",
    "\n",
    "HTML('''<script>\n",
    "code_show=true; \n",
    "function code_toggle() {\n",
    " if (code_show){\n",
    " $('div.input').hide();\n",
    " } else {\n",
    " $('div.input').show();\n",
    " }\n",
    " code_show = !code_show\n",
    "} \n",
    "$( document ).ready(code_toggle);\n",
    "</script>\n",
    "<form action=\"javascript:code_toggle()\"><input type=\"submit\" value=\"Click here to toggle on/off the raw code.\"></form>''')"
   ]
  },
  {
   "cell_type": "markdown",
   "metadata": {},
   "source": [
    "## What is noise?\n",
    "\n",
    "**Noise** refers to the inescapable, random variation of observed variables. This happens due to the quantized nature of certain fundamental particles like electrons or photons. For example, that means there can only be a whole number of photons passing through a filter.\n",
    "\n",
    "To see this in a more everyday situation, imagine flipping a coin a few times in a row. Given the coin is fair, after flipping 10 coins we would expect 5 heads and 5 tails. However, because we have a small sample size and can only have a whole number of heads and tails, it would be unsurprising to observe 4 heads or even 3. Just like this, when measuring the intensity of light, we might expect 1000 photons per time interval and get anywhere from 900 to 1100.\n",
    "\n",
    "**COIN PICTURE HERE**"
   ]
  },
  {
   "cell_type": "markdown",
   "metadata": {},
   "source": [
    "## What is chaos?\n",
    "\n",
    "**Chaos** happens when the properties of a system cause small differences in initial conditions to lead to drastically different situations. In the 1950s, mathematician Edward Lorenz attempted to model local weather based off computer simulations. He found that dropping a decimal point off a number could change the forecast from a sunny day to a thunderstorm. This led him to formulate the butterfly effect, noting that if a butterfly flaps their wings in China, it could cause a tornado in Texas.\n",
    "\n",
    "**LORENZ ATTRACTOR HERE**"
   ]
  },
  {
   "cell_type": "markdown",
   "metadata": {},
   "source": [
    "## Our Experiment\n",
    "\n",
    "**CIRCUIT DIAGRAM HERE**"
   ]
  },
  {
   "cell_type": "markdown",
   "metadata": {},
   "source": [
    "## How do they affect each other?\n",
    "\n",
    "By adjusting the photon rate, we are in a unique position to adjust the noise level of the variable."
   ]
  },
  {
   "cell_type": "code",
   "execution_count": 17,
   "metadata": {
    "collapsed": true,
    "slideshow": {
     "slide_type": "-"
    }
   },
   "outputs": [],
   "source": [
    "JS_FUNCTION = \"\"\"\n",
    "<script type=\"text/javascript\">\n",
    "  function interactUpdate(div){\n",
    "     var outputs = div.getElementsByTagName(\"div\");\n",
    "     var controls = div.getElementsByTagName(\"input\");\n",
    "\n",
    "     var value = \"\";\n",
    "     for(i=0; i<controls.length; i++){\n",
    "       if((controls[i].type == \"range\") || controls[i].checked){\n",
    "         value = value + controls[i].getAttribute(\"name\") + controls[i].value;\n",
    "       }\n",
    "     }\n",
    "\n",
    "     for(i=0; i<outputs.length; i++){\n",
    "       var name = outputs[i].getAttribute(\"name\");\n",
    "       if(name == value){\n",
    "          outputs[i].style.display = 'block';\n",
    "       } else if(name != \"controls\"){\n",
    "          outputs[i].style.display = 'none';\n",
    "       }\n",
    "     }\n",
    "  }\n",
    "</script>\n",
    "\"\"\"\n",
    "WIDGETS = \"\"\"\n",
    "<div>\n",
    " <input type=\"range\" name=\"num\" min=\"1\" max=\"10\", step=\"1\" style=\"width:200px\", oninput=\"interactUpdate(this.parentNode);\" value=\"1\">\n",
    " <div name=\"num1\", style=\"display:block\">\n",
    "   <img src=\"data/100.png\">\n",
    " </div>\n",
    " <div name=\"num2\", style=\"display:none\">\n",
    "   <img src=\"data/250.png\">\n",
    " </div>\n",
    " <div name=\"num3\", style=\"display:none\">\n",
    "   <img src=\"data/500.png\">\n",
    " </div>\n",
    " <div name=\"num4\", style=\"display:none\">\n",
    "   <img src=\"data/1000.png\">\n",
    " </div>\n",
    " <div name=\"num5\", style=\"display:none\">\n",
    "   <img src=\"data/2000.png\">\n",
    " </div>\n",
    " <div name=\"num6\", style=\"display:none\">\n",
    "   <img src=\"data/3200.png\">\n",
    " </div>\n",
    " <div name=\"num7\", style=\"display:none\">\n",
    "   <img src=\"data/5000.png\">\n",
    " </div>\n",
    " <div name=\"num8\", style=\"display:none\">\n",
    "   <img src=\"data/10000.png\">\n",
    " </div>\n",
    " <div name=\"num9\", style=\"display:none\">\n",
    "   <img src=\"data/20000.png\">\n",
    " </div>\n",
    " <div name=\"num10\", style=\"display:none\">\n",
    "   <img src=\"data/30000.png\">\n",
    " </div> \n",
    "</div>\n",
    "\"\"\""
   ]
  },
  {
   "cell_type": "code",
   "execution_count": 18,
   "metadata": {
    "collapsed": false
   },
   "outputs": [
    {
     "data": {
      "text/html": [
       "\n",
       "<script type=\"text/javascript\">\n",
       "  function interactUpdate(div){\n",
       "     var outputs = div.getElementsByTagName(\"div\");\n",
       "     var controls = div.getElementsByTagName(\"input\");\n",
       "\n",
       "     var value = \"\";\n",
       "     for(i=0; i<controls.length; i++){\n",
       "       if((controls[i].type == \"range\") || controls[i].checked){\n",
       "         value = value + controls[i].getAttribute(\"name\") + controls[i].value;\n",
       "       }\n",
       "     }\n",
       "\n",
       "     for(i=0; i<outputs.length; i++){\n",
       "       var name = outputs[i].getAttribute(\"name\");\n",
       "       if(name == value){\n",
       "          outputs[i].style.display = 'block';\n",
       "       } else if(name != \"controls\"){\n",
       "          outputs[i].style.display = 'none';\n",
       "       }\n",
       "     }\n",
       "  }\n",
       "</script>\n",
       "\n",
       "<div>\n",
       " <input type=\"range\" name=\"num\" min=\"1\" max=\"10\", step=\"1\" style=\"width:200px\", oninput=\"interactUpdate(this.parentNode);\" value=\"1\">\n",
       " <div name=\"num1\", style=\"display:block\">\n",
       "   <img src=\"data/100.png\">\n",
       " </div>\n",
       " <div name=\"num2\", style=\"display:none\">\n",
       "   <img src=\"data/250.png\">\n",
       " </div>\n",
       " <div name=\"num3\", style=\"display:none\">\n",
       "   <img src=\"data/500.png\">\n",
       " </div>\n",
       " <div name=\"num4\", style=\"display:none\">\n",
       "   <img src=\"data/1000.png\">\n",
       " </div>\n",
       " <div name=\"num5\", style=\"display:none\">\n",
       "   <img src=\"data/2000.png\">\n",
       " </div>\n",
       " <div name=\"num6\", style=\"display:none\">\n",
       "   <img src=\"data/3200.png\">\n",
       " </div>\n",
       " <div name=\"num7\", style=\"display:none\">\n",
       "   <img src=\"data/5000.png\">\n",
       " </div>\n",
       " <div name=\"num8\", style=\"display:none\">\n",
       "   <img src=\"data/10000.png\">\n",
       " </div>\n",
       " <div name=\"num9\", style=\"display:none\">\n",
       "   <img src=\"data/20000.png\">\n",
       " </div>\n",
       " <div name=\"num10\", style=\"display:none\">\n",
       "   <img src=\"data/30000.png\">\n",
       " </div> \n",
       "</div>\n"
      ],
      "text/plain": [
       "<IPython.core.display.HTML object>"
      ]
     },
     "execution_count": 18,
     "metadata": {},
     "output_type": "execute_result"
    }
   ],
   "source": [
    "from IPython.display import HTML\n",
    "HTML(JS_FUNCTION + WIDGETS)"
   ]
  },
  {
   "cell_type": "code",
   "execution_count": null,
   "metadata": {
    "collapsed": true
   },
   "outputs": [],
   "source": []
  }
 ],
 "metadata": {
  "kernelspec": {
   "display_name": "Python 2",
   "language": "python",
   "name": "python2"
  },
  "language_info": {
   "codemirror_mode": {
    "name": "ipython",
    "version": 2
   },
   "file_extension": ".py",
   "mimetype": "text/x-python",
   "name": "python",
   "nbconvert_exporter": "python",
   "pygments_lexer": "ipython2",
   "version": "2.7.6"
  },
  "widgets": {
   "state": {
    "336d1bb3a59b497b9fe3eb1b41f83bba": {
     "views": []
    },
    "4dc1ee9e4acc4ec68dac72d63d32db02": {
     "views": []
    },
    "cc6c19f8f79e43b193bf2e3ab9e006a3": {
     "views": []
    },
    "f021e0ca763647408de02ea28c122557": {
     "views": []
    }
   },
   "version": "1.1.2"
  }
 },
 "nbformat": 4,
 "nbformat_minor": 0
}
